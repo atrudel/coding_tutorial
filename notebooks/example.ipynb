{
 "cells": [
  {
   "cell_type": "markdown",
   "id": "afd5e9662d1545de",
   "metadata": {},
   "source": []
  },
  {
   "metadata": {
    "ExecuteTime": {
     "end_time": "2024-06-26T15:26:44.608576Z",
     "start_time": "2024-06-26T15:26:43.912687Z"
    }
   },
   "cell_type": "code",
   "source": [
    "from cogvarlib.datasets.bandit_dataset import BanditDataset\n",
    "from cogvarlib.models.rescorla_wagner import RescorlaWagner"
   ],
   "id": "a96ae7b3fd96b8bb",
   "outputs": [],
   "execution_count": 1
  },
  {
   "metadata": {
    "ExecuteTime": {
     "end_time": "2024-06-26T15:26:44.619979Z",
     "start_time": "2024-06-26T15:26:44.609605Z"
    }
   },
   "cell_type": "code",
   "source": [
    "%load_ext autoreload\n",
    "%autoreload 2"
   ],
   "id": "b863bfab707bac21",
   "outputs": [],
   "execution_count": 2
  },
  {
   "metadata": {
    "ExecuteTime": {
     "end_time": "2024-06-26T15:26:44.631459Z",
     "start_time": "2024-06-26T15:26:44.620588Z"
    }
   },
   "cell_type": "code",
   "source": [
    "dataset = BanditDataset.load('../data/bandit_data.npy')\n",
    "_, trajectory, _ = dataset[0]\n",
    "trajectory.shape"
   ],
   "id": "d92c6e9f451362f4",
   "outputs": [
    {
     "data": {
      "text/plain": [
       "(2, 80)"
      ]
     },
     "execution_count": 3,
     "metadata": {},
     "output_type": "execute_result"
    }
   ],
   "execution_count": 3
  },
  {
   "metadata": {
    "ExecuteTime": {
     "end_time": "2024-06-26T15:26:44.641046Z",
     "start_time": "2024-06-26T15:26:44.632176Z"
    }
   },
   "cell_type": "code",
   "source": "rw  = RescorlaWagner(0.5, 0.9, 0.1)",
   "id": "58f009884ab334ee",
   "outputs": [],
   "execution_count": 4
  },
  {
   "metadata": {
    "ExecuteTime": {
     "end_time": "2024-06-26T15:26:44.657467Z",
     "start_time": "2024-06-26T15:26:44.642503Z"
    }
   },
   "cell_type": "code",
   "source": "action, prob = rw.choose_action()",
   "id": "40d1fd7ef76df74",
   "outputs": [],
   "execution_count": 5
  },
  {
   "metadata": {
    "ExecuteTime": {
     "end_time": "2024-06-26T15:26:44.667346Z",
     "start_time": "2024-06-26T15:26:44.658025Z"
    }
   },
   "cell_type": "code",
   "source": [
    "reward = trajectory[action, 0]\n",
    "reward"
   ],
   "id": "fb48c128d9bef851",
   "outputs": [
    {
     "data": {
      "text/plain": [
       "np.float32(0.6504966)"
      ]
     },
     "execution_count": 6,
     "metadata": {},
     "output_type": "execute_result"
    }
   ],
   "execution_count": 6
  },
  {
   "metadata": {
    "ExecuteTime": {
     "end_time": "2024-06-26T15:26:44.676399Z",
     "start_time": "2024-06-26T15:26:44.668004Z"
    }
   },
   "cell_type": "code",
   "source": "rw.update(action, reward)",
   "id": "d4399425acddfde0",
   "outputs": [],
   "execution_count": 7
  },
  {
   "metadata": {
    "ExecuteTime": {
     "end_time": "2024-06-26T15:26:44.685129Z",
     "start_time": "2024-06-26T15:26:44.676922Z"
    }
   },
   "cell_type": "code",
   "source": "rw.q_values",
   "id": "8499e4ccd88968ba",
   "outputs": [
    {
     "data": {
      "text/plain": [
       "array([0.5752483, 0.5      ])"
      ]
     },
     "execution_count": 8,
     "metadata": {},
     "output_type": "execute_result"
    }
   ],
   "execution_count": 8
  }
 ],
 "metadata": {
  "kernelspec": {
   "display_name": "Python 3 (ipykernel)",
   "language": "python",
   "name": "python3"
  },
  "language_info": {
   "codemirror_mode": {
    "name": "ipython",
    "version": 3
   },
   "file_extension": ".py",
   "mimetype": "text/x-python",
   "name": "python",
   "nbconvert_exporter": "python",
   "pygments_lexer": "ipython3",
   "version": "3.10.14"
  }
 },
 "nbformat": 4,
 "nbformat_minor": 5
}
