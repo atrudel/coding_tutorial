{
 "cells": [
  {
   "cell_type": "markdown",
   "id": "afd5e9662d1545de",
   "metadata": {},
   "source": []
  },
  {
   "metadata": {
    "ExecuteTime": {
     "end_time": "2024-06-26T12:53:21.885291Z",
     "start_time": "2024-06-26T12:53:21.869182Z"
    }
   },
   "cell_type": "code",
   "source": [
    "from cogvarlib.datasets.bandit_dataset import BanditDataset\n",
    "from cogvarlib.models.rescorla_wagner import RescorlaWagner"
   ],
   "id": "a96ae7b3fd96b8bb",
   "outputs": [],
   "execution_count": 8
  },
  {
   "metadata": {
    "ExecuteTime": {
     "end_time": "2024-06-26T12:52:06.916817Z",
     "start_time": "2024-06-26T12:52:06.900889Z"
    }
   },
   "cell_type": "code",
   "source": [
    "%load_ext autoreload\n",
    "%autoreload 2"
   ],
   "id": "b863bfab707bac21",
   "outputs": [],
   "execution_count": 3
  },
  {
   "metadata": {
    "ExecuteTime": {
     "end_time": "2024-06-26T12:59:08.380261Z",
     "start_time": "2024-06-26T12:59:08.318174Z"
    }
   },
   "cell_type": "code",
   "source": [
    "dataset = BanditDataset.load('../data/bandit_data.npy')\n",
    "_, trajectory, _ = dataset[0]\n",
    "trajectory.shape"
   ],
   "id": "d92c6e9f451362f4",
   "outputs": [
    {
     "data": {
      "text/plain": [
       "(2, 80)"
      ]
     },
     "execution_count": 20,
     "metadata": {},
     "output_type": "execute_result"
    }
   ],
   "execution_count": 20
  },
  {
   "metadata": {
    "ExecuteTime": {
     "end_time": "2024-06-26T12:59:13.228099Z",
     "start_time": "2024-06-26T12:59:13.214066Z"
    }
   },
   "cell_type": "code",
   "source": "rw  = RescorlaWagner(0.5, 0.9, 0.1)",
   "id": "58f009884ab334ee",
   "outputs": [],
   "execution_count": 21
  },
  {
   "metadata": {
    "ExecuteTime": {
     "end_time": "2024-06-26T12:59:14.806270Z",
     "start_time": "2024-06-26T12:59:14.793042Z"
    }
   },
   "cell_type": "code",
   "source": "action, prob = rw.choose_action()",
   "id": "40d1fd7ef76df74",
   "outputs": [],
   "execution_count": 22
  },
  {
   "metadata": {
    "ExecuteTime": {
     "end_time": "2024-06-26T12:59:29.210072Z",
     "start_time": "2024-06-26T12:59:29.199138Z"
    }
   },
   "cell_type": "code",
   "source": [
    "reward = trajectory[action, 0]\n",
    "reward"
   ],
   "id": "fb48c128d9bef851",
   "outputs": [
    {
     "data": {
      "text/plain": [
       "np.float32(0.6504966)"
      ]
     },
     "execution_count": 26,
     "metadata": {},
     "output_type": "execute_result"
    }
   ],
   "execution_count": 26
  },
  {
   "metadata": {
    "ExecuteTime": {
     "end_time": "2024-06-26T12:59:36.394418Z",
     "start_time": "2024-06-26T12:59:36.378666Z"
    }
   },
   "cell_type": "code",
   "source": "rw.update(action, reward)",
   "id": "d4399425acddfde0",
   "outputs": [],
   "execution_count": 27
  },
  {
   "metadata": {
    "ExecuteTime": {
     "end_time": "2024-06-26T12:59:43.589155Z",
     "start_time": "2024-06-26T12:59:43.577443Z"
    }
   },
   "cell_type": "code",
   "source": "rw.q_values",
   "id": "8499e4ccd88968ba",
   "outputs": [
    {
     "data": {
      "text/plain": [
       "array([0.5752483, 0.5      ])"
      ]
     },
     "execution_count": 29,
     "metadata": {},
     "output_type": "execute_result"
    }
   ],
   "execution_count": 29
  },
  {
   "metadata": {},
   "cell_type": "code",
   "outputs": [],
   "execution_count": null,
   "source": "",
   "id": "1ee6e0bed4fce9c"
  }
 ],
 "metadata": {
  "kernelspec": {
   "display_name": "Python 3 (ipykernel)",
   "language": "python",
   "name": "python3"
  },
  "language_info": {
   "codemirror_mode": {
    "name": "ipython",
    "version": 3
   },
   "file_extension": ".py",
   "mimetype": "text/x-python",
   "name": "python",
   "nbconvert_exporter": "python",
   "pygments_lexer": "ipython3",
   "version": "3.10.14"
  }
 },
 "nbformat": 4,
 "nbformat_minor": 5
}
